{
 "cells": [
  {
   "cell_type": "code",
   "execution_count": 10,
   "id": "ac715d92-6224-4210-aa45-d811daffbc8c",
   "metadata": {},
   "outputs": [],
   "source": [
    "from build_ollama import build_model, llm_invoke"
   ]
  },
  {
   "cell_type": "code",
   "execution_count": 11,
   "id": "b762a4ce-e1aa-4ad6-930c-b1da99e6e6dc",
   "metadata": {},
   "outputs": [],
   "source": [
    "llm = build_model()"
   ]
  },
  {
   "cell_type": "code",
   "execution_count": 12,
   "id": "c3e776b3-b305-4832-9744-413f745e5406",
   "metadata": {},
   "outputs": [],
   "source": [
    "response = llm_invoke(llm, \"Как приготовить карбонару?\")"
   ]
  },
  {
   "cell_type": "code",
   "execution_count": 13,
   "id": "39d3a356-bfdb-4cdf-8425-a9e1597da54e",
   "metadata": {},
   "outputs": [
    {
     "name": "stdout",
     "output_type": "stream",
     "text": [
      " Рецепт карбонары:\n",
      "   - Ингредиенты: 400 г свежих томатов, 250 г макаронов (например, фарфоле), 100-150 г моцареллы, оливковое масло, соль и перец.\n",
      "   - Подготовка: Фаршировать томаты и пожарить на сковороде с оливковым маслом. Приготовить макароны в соленом воде до готовности. Складывать томаты, макароны и оставшуюся часть сыра моцареллы в большой тарелке слоями, перемешивая их после каждого слоя. Подавайте горячим.\n",
      "   - Примечание: Карбонару — популярное итальянское блюдо, состоящее из томатов, макаронов и сыра моцареллы. Калорийность одного порции составляет примерно 500-600 калорий. Блюдо богато железа и витамина C, но содержит также много жиров из-за большого количества сыра. Поэтому его рекомендуется употреблять на разнообразной диете.\n"
     ]
    }
   ],
   "source": [
    "print(response)"
   ]
  },
  {
   "cell_type": "code",
   "execution_count": null,
   "id": "c292ec8b-d03a-4c78-9df0-ac2859a1a759",
   "metadata": {},
   "outputs": [],
   "source": []
  }
 ],
 "metadata": {
  "kernelspec": {
   "display_name": "Python (llm_venv)",
   "language": "python",
   "name": "llm_venv"
  },
  "language_info": {
   "codemirror_mode": {
    "name": "ipython",
    "version": 3
   },
   "file_extension": ".py",
   "mimetype": "text/x-python",
   "name": "python",
   "nbconvert_exporter": "python",
   "pygments_lexer": "ipython3",
   "version": "3.10.12"
  }
 },
 "nbformat": 4,
 "nbformat_minor": 5
}
