{
 "cells": [
  {
   "cell_type": "code",
   "execution_count": 1,
   "id": "5458b528-53f4-4665-a6f2-52b1d5f98a32",
   "metadata": {},
   "outputs": [
    {
     "name": "stderr",
     "output_type": "stream",
     "text": [
      "/workspace/Recipes/rec_proj_venv/lib/python3.10/site-packages/tqdm/auto.py:21: TqdmWarning: IProgress not found. Please update jupyter and ipywidgets. See https://ipywidgets.readthedocs.io/en/stable/user_install.html\n",
      "  from .autonotebook import tqdm as notebook_tqdm\n",
      "The `load_in_4bit` and `load_in_8bit` arguments are deprecated and will be removed in the future versions. Please, pass a `BitsAndBytesConfig` object in `quantization_config` argument instead.\n",
      "Downloading shards: 100%|██████████| 4/4 [01:59<00:00, 29.79s/it]\n",
      "Loading checkpoint shards: 100%|██████████| 4/4 [00:07<00:00,  1.94s/it]\n"
     ]
    },
    {
     "name": "stdout",
     "output_type": "stream",
     "text": [
      "GenerationConfig {\n",
      "  \"bos_token_id\": 128000,\n",
      "  \"do_sample\": true,\n",
      "  \"eos_token_id\": 128009,\n",
      "  \"max_new_tokens\": 1536,\n",
      "  \"pad_token_id\": 128000,\n",
      "  \"repetition_penalty\": 1.12,\n",
      "  \"temperature\": 0.2,\n",
      "  \"top_k\": 30,\n",
      "  \"top_p\": 0.9\n",
      "}\n",
      "\n"
     ]
    }
   ],
   "source": [
    "import torch\n",
    "from transformers import AutoModelForCausalLM, AutoTokenizer, GenerationConfig\n",
    "\n",
    "MODEL_NAME = \"IlyaGusev/saiga_llama3_8b\"\n",
    "DEFAULT_SYSTEM_PROMPT = \"Ты — Сайга, русскоязычный автоматический ассистент. Ты разговариваешь с людьми и помогаешь им.\"\n",
    "\n",
    "model = AutoModelForCausalLM.from_pretrained(\n",
    "    MODEL_NAME,\n",
    "    load_in_8bit=True,\n",
    "    torch_dtype=torch.bfloat16,\n",
    "    device_map=\"auto\"\n",
    ")\n",
    "model.eval()\n",
    "\n",
    "tokenizer = AutoTokenizer.from_pretrained(MODEL_NAME)\n",
    "generation_config = GenerationConfig.from_pretrained(MODEL_NAME)\n",
    "print(generation_config)"
   ]
  },
  {
   "cell_type": "code",
   "execution_count": 2,
   "id": "e290646e-4016-4172-93b5-3b03a212bbe7",
   "metadata": {},
   "outputs": [
    {
     "name": "stderr",
     "output_type": "stream",
     "text": [
      "/workspace/Recipes/rec_proj_venv/lib/python3.10/site-packages/bitsandbytes/autograd/_functions.py:315: UserWarning: MatMul8bitLt: inputs will be cast from torch.bfloat16 to float16 during quantization\n",
      "  warnings.warn(f\"MatMul8bitLt: inputs will be cast from {A.dtype} to float16 during quantization\")\n"
     ]
    },
    {
     "name": "stdout",
     "output_type": "stream",
     "text": [
      "Как приготовить карбонару?\n",
      "Карбонара (Carbonara) — это итальянский рецепт, который традиционно готовится из яиц, пармезана, гуанчиале (или других видов копченого мяса), пасты спагетти и белого вина. Вот пошаговый рецепт приготовления:\n",
      "\n",
      "Ингредиенты:\n",
      "- 300 г спагетти\n",
      "- 4 яйца\n",
      "- 100 г пармезана\n",
      "- 50 г гуанчиале или другого копченого мяса\n",
      "- 1 столовая ложка белого вина\n",
      "- соль по вкусу\n",
      "- черный перец по вкусу\n",
      "\n",
      "Приготовление:\n",
      "1. **Подготовьте ингредиенты**: Налейте воду в кастрюлю и доведите до кипения. Откиньте лишнюю воду и добавьте немного оливкового масла для смазывания.\n",
      "2. **Готовьте спагетти**: Влейте в кастрюлю спагетти и варите на среднем огне около 8-10 минут, пока они не станут аль денте. Затем откиньте их на тарелку и оставьте остывать.\n",
      "3. **Приготовьте соус**: Разогрейте сковороду на среднем огне и добавьте гуанчиале. Обжарьте его до золотистой корочки, затем выньте мясо из сковороды и положите его на тарелку.\n",
      "4. **Добавьте яйца и сыр**: В сковороде оставьте только масло, в котором обжаривалось мясо. Добавьте яйца и взбейте их вилкой до однородной консистенции. Постепенно добавляйте тертый пармезан и продолжайте взбивать смесь до тех пор, пока она не станет густой и кремообразной.\n",
      "5. **Верните мясо и вино**: Добавьте обратно мясо и белое вино в сковороду. Перемешайте все вместе и убавьте огонь до минимума.\n",
      "6. **Смешайте со спагетти**: Добавьте к соусу остывшие спагетти и перемешайте все тщательно, чтобы каждый кусочек был покрыт соусом.\n",
      "7. **Посолите и поперчите**: Добавьте соль и черный перец по вкусу.\n",
      "8. **Подавайте**: Подавайте карбонару горячим сразу после приготовления.\n",
      "\n",
      "Используйте этот рецепт как база и экспериментируйте с дополнительными ингредиентами, такими как свежие травы или овощи, чтобы сделать блюдо более уникальным. Приятного аппетита!\n",
      "\n",
      "==============================\n",
      "\n"
     ]
    }
   ],
   "source": [
    "inputs = [\"Как приготовить карбонару?\"]\n",
    "for query in inputs:\n",
    "    prompt = tokenizer.apply_chat_template([{\n",
    "        \"role\": \"system\",\n",
    "        \"content\": DEFAULT_SYSTEM_PROMPT\n",
    "    }, {\n",
    "        \"role\": \"user\",\n",
    "        \"content\": query\n",
    "    }], tokenize=False, add_generation_prompt=True)\n",
    "    data = tokenizer(prompt, return_tensors=\"pt\", add_special_tokens=False)\n",
    "    data = {k: v.to(model.device) for k, v in data.items()}\n",
    "    output_ids = model.generate(**data, generation_config=generation_config)[0]\n",
    "    output_ids = output_ids[len(data[\"input_ids\"][0]):]\n",
    "    output = tokenizer.decode(output_ids, skip_special_tokens=True).strip()\n",
    "    print(query)\n",
    "    print(output)\n",
    "    print()\n",
    "    print(\"==============================\")\n",
    "    print()"
   ]
  },
  {
   "cell_type": "code",
   "execution_count": null,
   "id": "bbd1f534-10e7-457e-bffb-a3be24c8af71",
   "metadata": {},
   "outputs": [],
   "source": []
  }
 ],
 "metadata": {
  "kernelspec": {
   "display_name": "Python (llm_venv)",
   "language": "python",
   "name": "rec_proj_venv"
  },
  "language_info": {
   "codemirror_mode": {
    "name": "ipython",
    "version": 3
   },
   "file_extension": ".py",
   "mimetype": "text/x-python",
   "name": "python",
   "nbconvert_exporter": "python",
   "pygments_lexer": "ipython3",
   "version": "3.10.12"
  }
 },
 "nbformat": 4,
 "nbformat_minor": 5
}
