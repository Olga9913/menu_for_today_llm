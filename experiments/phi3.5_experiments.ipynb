{
 "cells": [
  {
   "cell_type": "code",
   "execution_count": null,
   "id": "787272d7-86c1-4df1-a88a-2f891f19c197",
   "metadata": {},
   "outputs": [
    {
     "name": "stderr",
     "output_type": "stream",
     "text": [
      "/workspace/Recipes/rec_proj_venv/lib/python3.10/site-packages/tqdm/auto.py:21: TqdmWarning: IProgress not found. Please update jupyter and ipywidgets. See https://ipywidgets.readthedocs.io/en/stable/user_install.html\n",
      "  from .autonotebook import tqdm as notebook_tqdm\n"
     ]
    }
   ],
   "source": [
    "from transformers import AutoModel\n",
    "\n",
    "access_token = \"\""
   ]
  },
  {
   "cell_type": "code",
   "execution_count": 3,
   "id": "ce367fea-db68-4fd9-bb66-7cf3f5d856c7",
   "metadata": {},
   "outputs": [
    {
     "name": "stderr",
     "output_type": "stream",
     "text": [
      "`flash-attention` package not found, consider installing for better performance: No module named 'flash_attn'.\n",
      "Current `flash-attention` does not support `window_size`. Either upgrade or use `attn_implementation='eager'`.\n",
      "Loading checkpoint shards: 100%|██████████| 2/2 [00:01<00:00,  1.16it/s]\n"
     ]
    }
   ],
   "source": [
    "from transformers import AutoModelForCausalLM, AutoTokenizer, pipeline\n",
    "import torch\n",
    "\n",
    "model = AutoModelForCausalLM.from_pretrained(\n",
    "    \"microsoft/Phi-3.5-mini-instruct\", \n",
    "    device_map=\"cuda\", \n",
    "    torch_dtype=\"auto\", \n",
    "    trust_remote_code=True, \n",
    ")\n",
    "tokenizer = AutoTokenizer.from_pretrained(\"microsoft/Phi-3.5-mini-instruct\")"
   ]
  },
  {
   "cell_type": "code",
   "execution_count": 5,
   "id": "91707088-1b3b-4260-8645-2ac84d0864de",
   "metadata": {},
   "outputs": [
    {
     "name": "stderr",
     "output_type": "stream",
     "text": [
      "Device set to use cuda\n"
     ]
    },
    {
     "name": "stdout",
     "output_type": "stream",
     "text": [
      " Карбонару — это традиционное греческое блюдо, состоящее из тонко нарезанных овощей, обычно смешанных с оливковым маслом и специями. Это простое, но вкусное блюдо, которое можно приготовить дома. Вот простой рецепт для карбонару:\n",
      "\n",
      "Ингредиенты:\n",
      "* 4-5 средних моркови, очищенных и тонко нарезанных\n",
      "* 4-5 средних помидоров, тонко нарезанных\n",
      "* 1 стакан черри-пеперы, тонко нарезанных\n",
      "* 1 стакан зеленого горошка, тонко нарезанного\n",
      "* 1 стакан спаржи, тонко нарезанной\n",
      "* 2 столовые ложки оливкового масла\n",
      "* 1 чайная ложка сушеного орегано\n",
      "* 1 чайная ложка сушеного базилика\n",
      "* Соль по вкусу\n",
      "* 1/2 чайной ложки черного перца (по желанию)\n",
      "\n",
      "Инструкции:\n",
      "\n",
      "1. Разогрейте духовку до 175°C (350°F).\n",
      "2. В большой миске смешайте нарезанные овощи: морковь, помидоры, черри-пеперы, зеленый горошек и спаржу.\n",
      "3. Добавьте оливковое масло, сушеные травы (орегано и базилик), соль и черный перец (если используете) в смесь овощей. Хорошо перемешайте, чтобы обеспечить равномерное покрытие всех овощей.\n",
      "4. Распределите смесь овощей равномерно на противне, выстеленном пергаментной бумагой.\n",
      "5. Поставьте противень в разогретую духовку и го\n"
     ]
    }
   ],
   "source": [
    "messages = [\n",
    "    {\"role\": \"system\", \"content\": \"Ты кулинарный помощник.\"},\n",
    "    {\"role\": \"user\", \"content\": \"Как приготовить карбонару?\"},\n",
    "]\n",
    "\n",
    "pipe = pipeline(\n",
    "    \"text-generation\",\n",
    "    model=model,\n",
    "    tokenizer=tokenizer,\n",
    ")\n",
    "\n",
    "generation_args = {\n",
    "    \"max_new_tokens\": 500,\n",
    "    \"return_full_text\": False,\n",
    "    \"temperature\": 0.0,\n",
    "    \"do_sample\": False,\n",
    "    \"use_cache\": False, \n",
    "}\n",
    "\n",
    "output = pipe(messages, **generation_args)\n",
    "print(output[0]['generated_text'])"
   ]
  }
 ],
 "metadata": {
  "kernelspec": {
   "display_name": "Python (llm_venv)",
   "language": "python",
   "name": "rec_proj_venv"
  },
  "language_info": {
   "codemirror_mode": {
    "name": "ipython",
    "version": 3
   },
   "file_extension": ".py",
   "mimetype": "text/x-python",
   "name": "python",
   "nbconvert_exporter": "python",
   "pygments_lexer": "ipython3",
   "version": "3.10.12"
  }
 },
 "nbformat": 4,
 "nbformat_minor": 5
}
